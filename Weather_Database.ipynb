{
 "cells": [
  {
   "cell_type": "code",
   "execution_count": 12,
   "id": "3911b46d",
   "metadata": {},
   "outputs": [],
   "source": [
    "from citipy import citipy\n",
    "from config import weather_api\n",
    "import numpy as np, pandas as pd"
   ]
  },
  {
   "cell_type": "markdown",
   "id": "eae85baf",
   "metadata": {},
   "source": [
    "#### 2. Create a new set of 2,000 random latitudes and longitudes."
   ]
  },
  {
   "cell_type": "code",
   "execution_count": 10,
   "id": "f0ac0bf5",
   "metadata": {},
   "outputs": [],
   "source": [
    "lats = np.random.uniform(-90,90,2000)\n",
    "lngs = np.random.uniform(-180,180,2000)"
   ]
  },
  {
   "cell_type": "markdown",
   "id": "6f473de6",
   "metadata": {},
   "source": [
    "#### 3. Get the nearest city using the citipy module."
   ]
  },
  {
   "cell_type": "code",
   "execution_count": 11,
   "id": "9f66bf19",
   "metadata": {},
   "outputs": [
    {
     "data": {
      "text/plain": [
       "763"
      ]
     },
     "execution_count": 11,
     "metadata": {},
     "output_type": "execute_result"
    }
   ],
   "source": [
    "cities = []\n",
    "lats_lngs = zip(lats,lngs)\n",
    "\n",
    "for lat,lng in lats_lngs:\n",
    "    city = citipy.nearest_city(lat,lng).city_name\n",
    "    if city not in cities:\n",
    "        cities.append(city)\n",
    "len(cities)"
   ]
  },
  {
   "cell_type": "markdown",
   "id": "7fb57c9c",
   "metadata": {},
   "source": [
    "#### 4. Perform an API call with the OpenWeatherMap."
   ]
  },
  {
   "cell_type": "code",
   "execution_count": 13,
   "id": "9e30a97e",
   "metadata": {},
   "outputs": [],
   "source": [
    "\n",
    "cities2 = ['london','chicago']"
   ]
  },
  {
   "cell_type": "code",
   "execution_count": null,
   "id": "f81399da",
   "metadata": {},
   "outputs": [],
   "source": []
  },
  {
   "cell_type": "code",
   "execution_count": null,
   "id": "97952185",
   "metadata": {},
   "outputs": [],
   "source": []
  },
  {
   "cell_type": "code",
   "execution_count": null,
   "id": "56d8181c",
   "metadata": {},
   "outputs": [],
   "source": []
  },
  {
   "cell_type": "code",
   "execution_count": null,
   "id": "461b3c56",
   "metadata": {},
   "outputs": [],
   "source": []
  }
 ],
 "metadata": {
  "kernelspec": {
   "display_name": "PythonData",
   "language": "python",
   "name": "pythondata"
  },
  "language_info": {
   "codemirror_mode": {
    "name": "ipython",
    "version": 3
   },
   "file_extension": ".py",
   "mimetype": "text/x-python",
   "name": "python",
   "nbconvert_exporter": "python",
   "pygments_lexer": "ipython3",
   "version": "3.9.7"
  }
 },
 "nbformat": 4,
 "nbformat_minor": 5
}
