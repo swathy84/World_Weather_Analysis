{
 "cells": [
  {
   "cell_type": "code",
   "execution_count": 1,
   "id": "b7f62128",
   "metadata": {},
   "outputs": [],
   "source": [
    "#import random dependencies \n",
    "import random"
   ]
  },
  {
   "cell_type": "code",
   "execution_count": 2,
   "id": "e81a9c54",
   "metadata": {},
   "outputs": [
    {
     "data": {
      "text/plain": [
       "0.45088222661310273"
      ]
     },
     "execution_count": 2,
     "metadata": {},
     "output_type": "execute_result"
    }
   ],
   "source": [
    "random.random()"
   ]
  },
  {
   "cell_type": "code",
   "execution_count": 3,
   "id": "326e4242",
   "metadata": {},
   "outputs": [
    {
     "data": {
      "text/plain": [
       "83"
      ]
     },
     "execution_count": 3,
     "metadata": {},
     "output_type": "execute_result"
    }
   ],
   "source": [
    "#to generate latitude numbers between -90 and 90\n",
    "random.randint(-90,90)"
   ]
  },
  {
   "cell_type": "code",
   "execution_count": 4,
   "id": "b3df7d36",
   "metadata": {},
   "outputs": [
    {
     "data": {
      "text/plain": [
       "-38.44062118823614"
      ]
     },
     "execution_count": 4,
     "metadata": {},
     "output_type": "execute_result"
    }
   ],
   "source": [
    "#random integer = random.randint() method\n",
    "random_number= random.randint(-90,90)+random.random()\n",
    "random_number"
   ]
  },
  {
   "cell_type": "code",
   "execution_count": 5,
   "id": "7b81cde2",
   "metadata": {},
   "outputs": [
    {
     "name": "stdout",
     "output_type": "stream",
     "text": [
      "[-5.836997832853814, 71.95172184812088, -85.28595243765407, 82.47232784690446, 11.23272484649225, 32.03316559433585, -82.67236684385598, 63.18181824644365, -70.31767852628133, 82.5687961622543]\n"
     ]
    }
   ],
   "source": [
    "#to generate ten random floating-point decimal latitudes between –90 and 89.\n",
    "x=1\n",
    "latitudes = []\n",
    "while x<11:\n",
    "    random_lat = random.randint(-90,89)+random.random()\n",
    "    latitudes.append(random_lat)\n",
    "    x=x+1\n",
    " \n",
    "print(latitudes)"
   ]
  },
  {
   "cell_type": "code",
   "execution_count": 6,
   "id": "bf81b141",
   "metadata": {},
   "outputs": [
    {
     "data": {
      "text/plain": [
       "-4"
      ]
     },
     "execution_count": 6,
     "metadata": {},
     "output_type": "execute_result"
    }
   ],
   "source": [
    "#random.randarange() method\n",
    "random.randrange(-90,90, step= 1)"
   ]
  },
  {
   "cell_type": "code",
   "execution_count": 7,
   "id": "bb8928d9",
   "metadata": {},
   "outputs": [
    {
     "data": {
      "text/plain": [
       "6.899402531802721"
      ]
     },
     "execution_count": 7,
     "metadata": {},
     "output_type": "execute_result"
    }
   ],
   "source": [
    "#random.uniform() method to generate random numbers \n",
    "random.uniform(-90.000,90.000)"
   ]
  },
  {
   "cell_type": "code",
   "execution_count": 8,
   "id": "5b38cc60",
   "metadata": {},
   "outputs": [
    {
     "data": {
      "text/plain": [
       "19.356904381169002"
      ]
     },
     "execution_count": 8,
     "metadata": {},
     "output_type": "execute_result"
    }
   ],
   "source": [
    "import numpy as np \n",
    "np.random.uniform(90.000,-90.000)"
   ]
  },
  {
   "cell_type": "code",
   "execution_count": 9,
   "id": "eeb7c085",
   "metadata": {},
   "outputs": [
    {
     "data": {
      "text/plain": [
       "array([ 40.90686856, -42.66262036, -21.26811503,  28.86924693,\n",
       "        84.17637832, -19.15375533, -55.27854837,  39.32877144,\n",
       "        22.64594242,  36.31968561, -39.22779672, -78.33050339,\n",
       "        38.7212288 ,  16.04188087,  31.84808213,  -8.28320415,\n",
       "        84.6490626 , -74.86952775, -55.34839772,   9.22635483,\n",
       "        44.43871146,  54.13379187,  -6.92574753,  55.8059939 ,\n",
       "        34.93167827,   5.6782019 ,  49.40915467,  68.83230328,\n",
       "       -29.98036161,  -7.75266912, -27.27651654,  31.11053039,\n",
       "       -82.12767134,  83.91756091,  76.58480868, -32.4595731 ,\n",
       "         7.64995662, -78.98211759,  35.80445843,   8.90490242,\n",
       "         1.38838005,  72.58626699,  85.72418392, -19.59386525,\n",
       "       -73.46085397,  46.34411746, -86.36981305,  -4.17699794,\n",
       "        49.20450516, -60.32923451])"
      ]
     },
     "execution_count": 9,
     "metadata": {},
     "output_type": "execute_result"
    }
   ],
   "source": [
    "import numpy as np \n",
    "np.random.uniform(-90.000,90.000,size =50)"
   ]
  },
  {
   "cell_type": "code",
   "execution_count": 10,
   "id": "f6dfc805",
   "metadata": {},
   "outputs": [
    {
     "name": "stdout",
     "output_type": "stream",
     "text": [
      "12.4 µs ± 43.2 ns per loop (mean ± std. dev. of 7 runs, 100000 loops each)\n"
     ]
    }
   ],
   "source": [
    "# to test how long the code was run \n",
    "#import timeit\n",
    "import timeit\n",
    "%timeit np.random.uniform(-90.000,90.000,size=1500)\n"
   ]
  },
  {
   "cell_type": "code",
   "execution_count": 15,
   "id": "ec0aa6fb",
   "metadata": {},
   "outputs": [
    {
     "name": "stdout",
     "output_type": "stream",
     "text": [
      "1.11 ms ± 7.78 µs per loop (mean ± std. dev. of 7 runs, 1000 loops each)\n"
     ]
    }
   ],
   "source": [
    "def latitudes(size):\n",
    "    latitudes = [] \n",
    "    x = 0 \n",
    "    while x< (size):\n",
    "        random_lat = random.randint(-90,90)+random.random()\n",
    "        latitudes.append(random_lat)\n",
    "        x = x+1\n",
    "                \n",
    "    return latitudes\n",
    "#call the funtion with 1500\n",
    "%timeit latitudes(1500)"
   ]
  },
  {
   "cell_type": "code",
   "execution_count": 14,
   "id": "1e03c657",
   "metadata": {
    "scrolled": true
   },
   "outputs": [
    {
     "name": "stdout",
     "output_type": "stream",
     "text": [
      "19.2 ns ± 0.138 ns per loop (mean ± std. dev. of 7 runs, 10000000 loops each)\n"
     ]
    }
   ],
   "source": [
    "#Skill-Drill : Refactor the code for the while loop with the %timeit magic command \n",
    "#and write a for loop that will generate the 1,500 latitudes.\n",
    "\n",
    "x = 0 \n",
    "\n",
    "latitudes = []\n",
    "for x in range(1500):\n",
    "    random_lat=random.uniform(-90,90)\n",
    "    latitudes.append(random_lat)\n",
    "    x=x+1\n",
    "%timeit latitudes"
   ]
  },
  {
   "cell_type": "code",
   "execution_count": 2,
   "id": "3089e426",
   "metadata": {},
   "outputs": [],
   "source": [
    "# Import linear regression from the SciPy stats module.\n",
    "from scipy.stats import linregress"
   ]
  },
  {
   "cell_type": "code",
   "execution_count": 1,
   "id": "3fb1deb0",
   "metadata": {},
   "outputs": [],
   "source": [
    "# Create an equal number of latitudes and temperatures.\n",
    "lats = [42.5, 43.9, 8.1, 36.8, 79.9, 69.1, 25.7, 15.3, 12.7, 64.5]\n",
    "temps = [80.5, 75.3, 90.9, 90.0, 40.4, 62.3, 85.4, 79.6, 72.5, 72.0]"
   ]
  },
  {
   "cell_type": "code",
   "execution_count": 6,
   "id": "b2af5c30",
   "metadata": {},
   "outputs": [
    {
     "name": "stdout",
     "output_type": "stream",
     "text": [
      "y = -0.45x + 92.94\n",
      "The p-value is: 0.011\n",
      " the r_value is -0.759\n"
     ]
    }
   ],
   "source": [
    "# Perform linear regression.\n",
    "#creating a tuple . \n",
    "(slope, intercept, r_value, p_value, std_err)=linregress(lats, temps)\n",
    "\n",
    "# Get the equation of the line.\n",
    "line_eq = \"y = \" + str(round(slope,2)) + \"x + \" + str(round(intercept,2))\n",
    "print(line_eq)\n",
    "print(f\"The p-value is: {p_value:.3f}\")\n",
    "print(f' the r_value is {r_value: .3f}')"
   ]
  },
  {
   "cell_type": "code",
   "execution_count": 7,
   "id": "acf6cff9",
   "metadata": {},
   "outputs": [
    {
     "name": "stdout",
     "output_type": "stream",
     "text": [
      "y = -0.45x + 92.94\n",
      "The r-value is: -0.759\n"
     ]
    }
   ],
   "source": [
    "# Perform linear regression.\n",
    "#creating a tuple . \n",
    "#If we dont want to calulate all the values ,then place _,  like below for P_value and std_err\n",
    "(slope, intercept, r_value, _, _)=linregress(lats, temps)\n",
    "\n",
    "# Get the equation of the line.\n",
    "line_eq = \"y = \" + str(round(slope,2)) + \"x + \" + str(round(intercept,2))\n",
    "print(line_eq)\n",
    "print(f\"The r-value is: {r_value:.3f}\")"
   ]
  },
  {
   "cell_type": "code",
   "execution_count": 10,
   "id": "26350a22",
   "metadata": {},
   "outputs": [
    {
     "data": {
      "text/plain": [
       "[73.68973782871005,\n",
       " 73.05563705897195,\n",
       " 89.2704995994175,\n",
       " 76.27143381978658,\n",
       " 56.750188694278094,\n",
       " 61.64182320368626,\n",
       " 81.29894706556718,\n",
       " 86.00940992647874,\n",
       " 87.18702564170663,\n",
       " 63.72529716139714]"
      ]
     },
     "execution_count": 10,
     "metadata": {},
     "output_type": "execute_result"
    }
   ],
   "source": [
    "# Calculate the regression line \"y values\" from the slope and intercept.\n",
    "regress_values =[((lat*slope)+intercept) for lat in lats]\n",
    "regress_values"
   ]
  },
  {
   "cell_type": "code",
   "execution_count": 13,
   "id": "5eda2cda",
   "metadata": {},
   "outputs": [
    {
     "data": {
      "image/png": "[encoded data removed]",
      "text/plain": [
       "<Figure size 432x288 with 1 Axes>"
      ]
     },
     "metadata": {
      "needs_background": "light"
     },
     "output_type": "display_data"
    }
   ],
   "source": [
    "#import matplotlib \n",
    "import matplotlib.pyplot as plt\n",
    "\n",
    "#create a scatter plots for x and y\n",
    "plt.scatter(lats,temps)\n",
    "\n",
    "#plot the regression line with x-values and y coordinates based on intercept and slope \n",
    "plt.plot(lats,regress_values,\"r\")\n",
    "\n",
    "#Annotate the text for the line equation and add its coordinates .\n",
    "plt.annotate(line_eq,(10,40),fontsize=15,color=\"red\")\n",
    "plt.xlabel(\"Latitude\")\n",
    "plt.ylabel(\"Temperature\")\n",
    "plt.show()"
   ]
  },
  {
   "cell_type": "code",
   "execution_count": null,
   "id": "c74c4156",
   "metadata": {},
   "outputs": [],
   "source": []
  }
 ],
 "metadata": {
  "kernelspec": {
   "display_name": "PythonData",
   "language": "python",
   "name": "pythondata"
  },
  "language_info": {
   "codemirror_mode": {
    "name": "ipython",
    "version": 3
   },
   "file_extension": ".py",
   "mimetype": "text/x-python",
   "name": "python",
   "nbconvert_exporter": "python",
   "pygments_lexer": "ipython3",
   "version": "3.9.7"
  }
 },
 "nbformat": 4,
 "nbformat_minor": 5
}
