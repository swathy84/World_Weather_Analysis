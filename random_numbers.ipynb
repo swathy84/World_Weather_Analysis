{
 "cells": [
  {
   "cell_type": "code",
   "execution_count": 1,
   "id": "b7f62128",
   "metadata": {},
   "outputs": [],
   "source": [
    "#import random dependencies \n",
    "import random"
   ]
  },
  {
   "cell_type": "code",
   "execution_count": 4,
   "id": "e81a9c54",
   "metadata": {},
   "outputs": [
    {
     "data": {
      "text/plain": [
       "0.4406815370552165"
      ]
     },
     "execution_count": 4,
     "metadata": {},
     "output_type": "execute_result"
    }
   ],
   "source": [
    "random.random()"
   ]
  },
  {
   "cell_type": "code",
   "execution_count": 5,
   "id": "326e4242",
   "metadata": {},
   "outputs": [
    {
     "data": {
      "text/plain": [
       "-15"
      ]
     },
     "execution_count": 5,
     "metadata": {},
     "output_type": "execute_result"
    }
   ],
   "source": [
    "#to generate latitude numbers between -90 and 90\n",
    "random.randint(-90,90)"
   ]
  },
  {
   "cell_type": "code",
   "execution_count": 7,
   "id": "b3df7d36",
   "metadata": {},
   "outputs": [
    {
     "data": {
      "text/plain": [
       "42.354959442027116"
      ]
     },
     "execution_count": 7,
     "metadata": {},
     "output_type": "execute_result"
    }
   ],
   "source": [
    "#random integer = random.randint() method\n",
    "random_number= random.randint(-90,90)+random.random()\n",
    "random_number"
   ]
  },
  {
   "cell_type": "code",
   "execution_count": 10,
   "id": "7b81cde2",
   "metadata": {},
   "outputs": [
    {
     "name": "stdout",
     "output_type": "stream",
     "text": [
      "[27.500433051706594, -61.3395144129807, 30.646386807397967, -26.372804502371523, -81.61733312702422, -3.7584727100937165, -1.3984394563410714, 81.23418440845596, 1.6341370430103288, 45.24786140934706]\n"
     ]
    }
   ],
   "source": [
    "#to generate ten random floating-point decimal latitudes between –90 and 89.\n",
    "x=1\n",
    "latitudes = []\n",
    "while x<11:\n",
    "    random_lat = random.randint(-90,89)+random.random()\n",
    "    latitudes.append(random_lat)\n",
    "    x=x+1\n",
    " \n",
    "print(latitudes)"
   ]
  },
  {
   "cell_type": "code",
   "execution_count": 12,
   "id": "bf81b141",
   "metadata": {},
   "outputs": [
    {
     "data": {
      "text/plain": [
       "50"
      ]
     },
     "execution_count": 12,
     "metadata": {},
     "output_type": "execute_result"
    }
   ],
   "source": [
    "#random.randarange() method\n",
    "random.randrange(-90,90, step= 1)"
   ]
  },
  {
   "cell_type": "code",
   "execution_count": 16,
   "id": "bb8928d9",
   "metadata": {},
   "outputs": [
    {
     "data": {
      "text/plain": [
       "-18.202119827284676"
      ]
     },
     "execution_count": 16,
     "metadata": {},
     "output_type": "execute_result"
    }
   ],
   "source": [
    "#random.uniform() method to generate random numbers \n",
    "random.uniform(-90.000,90.000)"
   ]
  },
  {
   "cell_type": "code",
   "execution_count": 20,
   "id": "5b38cc60",
   "metadata": {},
   "outputs": [
    {
     "data": {
      "text/plain": [
       "34.040870662131994"
      ]
     },
     "execution_count": 20,
     "metadata": {},
     "output_type": "execute_result"
    }
   ],
   "source": [
    "import numpy as np \n",
    "np.random.uniform(90.000,-90.000)"
   ]
  },
  {
   "cell_type": "code",
   "execution_count": 18,
   "id": "eeb7c085",
   "metadata": {},
   "outputs": [
    {
     "data": {
      "text/plain": [
       "array([-29.58086438,  88.27250855,  79.2101286 ,  85.02777618,\n",
       "        32.30023041, -57.27551855, -74.71364062, -28.78164844,\n",
       "       -36.80201626,  11.3234025 ,  19.87870439,  11.76109004,\n",
       "       -72.23756659, -74.14815134,  14.54404986,  37.05369923,\n",
       "        88.43668024, -56.01724269,  76.06502271,   8.34841635,\n",
       "        -9.25521545, -11.20293669, -21.06367775,  -4.3409795 ,\n",
       "       -86.68097041,  64.44740775,  59.01725363,  31.91231934,\n",
       "       -73.83966116,  -8.7594009 , -78.82126787,  87.41863008,\n",
       "       -42.6514421 ,  32.45985807, -76.70028084, -68.76980751,\n",
       "        -8.87058933, -39.87393995,  84.76137632, -86.95789964,\n",
       "        48.10246552,  79.09718235,  61.89244327,  17.66973911,\n",
       "       -52.69082729, -65.4863306 ,  89.66133982, -75.03200494,\n",
       "        79.85166876, -27.18162885])"
      ]
     },
     "execution_count": 18,
     "metadata": {},
     "output_type": "execute_result"
    }
   ],
   "source": [
    "import numpy as np \n",
    "np.random.uniform(-90.000,90.000,size =50)"
   ]
  },
  {
   "cell_type": "code",
   "execution_count": 19,
   "id": "f6dfc805",
   "metadata": {},
   "outputs": [
    {
     "name": "stdout",
     "output_type": "stream",
     "text": [
      "12.9 µs ± 53.6 ns per loop (mean ± std. dev. of 7 runs, 100000 loops each)\n"
     ]
    }
   ],
   "source": [
    "# to test how long the code was run \n",
    "#import timeit\n",
    "import timeit\n",
    "%timeit np.random.uniform(-90.000,90.000,size=1500)\n"
   ]
  },
  {
   "cell_type": "code",
   "execution_count": 21,
   "id": "ec0aa6fb",
   "metadata": {},
   "outputs": [
    {
     "name": "stdout",
     "output_type": "stream",
     "text": [
      "1.11 ms ± 6.09 µs per loop (mean ± std. dev. of 7 runs, 1000 loops each)\n"
     ]
    }
   ],
   "source": [
    "def latitudes(size):\n",
    "    latitudes = [] \n",
    "    x = 0 \n",
    "    while x< (size):\n",
    "        random_lat = random.randint(-90,90)+random.random()\n",
    "        latitudes.append(random_lat)\n",
    "        x = x+1\n",
    "                \n",
    "    return latitudes\n",
    "#call the funtion with 1500\n",
    "%timeit latitudes(1500)"
   ]
  },
  {
   "cell_type": "code",
   "execution_count": 1,
   "id": "1e03c657",
   "metadata": {},
   "outputs": [
    {
     "ename": "IndentationError",
     "evalue": "unexpected indent (754774631.py, line 8)",
     "output_type": "error",
     "traceback": [
      "\u001b[0;36m  File \u001b[0;32m\"/var/folders/v1/ywmmfrtd66q93cgz6lqhxqbc0000gn/T/ipykernel_6540/754774631.py\"\u001b[0;36m, line \u001b[0;32m8\u001b[0m\n\u001b[0;31m    random_lat=random.randint(-90,90)+random.random()\u001b[0m\n\u001b[0m    ^\u001b[0m\n\u001b[0;31mIndentationError\u001b[0m\u001b[0;31m:\u001b[0m unexpected indent\n"
     ]
    }
   ],
   "source": [
    "#Skill-Drill : Refactor the code for the while loop with the %timeit magic command \n",
    "#and write a for loop that will generate the 1,500 latitudes.\n",
    "\n",
    "x = 0 \n",
    "size = 1500\n",
    "latitudes = []\n",
    "for x in size:\n",
    "    random_lat=random.randint(-90,90)+random.random()\n",
    "    latitudes.append(random_lat)\n",
    "    x=x+1\n"
   ]
  },
  {
   "cell_type": "code",
   "execution_count": null,
   "id": "3089e426",
   "metadata": {},
   "outputs": [],
   "source": []
  }
 ],
 "metadata": {
  "kernelspec": {
   "display_name": "PythonData",
   "language": "python",
   "name": "pythondata"
  },
  "language_info": {
   "codemirror_mode": {
    "name": "ipython",
    "version": 3
   },
   "file_extension": ".py",
   "mimetype": "text/x-python",
   "name": "python",
   "nbconvert_exporter": "python",
   "pygments_lexer": "ipython3",
   "version": "3.9.7"
  }
 },
 "nbformat": 4,
 "nbformat_minor": 5
}
